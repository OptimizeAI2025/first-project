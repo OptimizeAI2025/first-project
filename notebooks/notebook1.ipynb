{
 "cells": [
  {
   "cell_type": "code",
   "execution_count": 1,
   "metadata": {},
   "outputs": [],
   "source": [
    "import pandas as pd"
   ]
  },
  {
   "cell_type": "code",
   "execution_count": 2,
   "metadata": {},
   "outputs": [
    {
     "ename": "ModuleNotFoundError",
     "evalue": "No module named 'my_awesome_library'",
     "output_type": "error",
     "traceback": [
      "\u001b[1;31m---------------------------------------------------------------------------\u001b[0m",
      "\u001b[1;31mModuleNotFoundError\u001b[0m                       Traceback (most recent call last)",
      "Cell \u001b[1;32mIn[2], line 1\u001b[0m\n\u001b[1;32m----> 1\u001b[0m \u001b[38;5;28;01mfrom\u001b[39;00m \u001b[38;5;21;01mmy_awesome_library\u001b[39;00m \u001b[38;5;28;01mimport\u001b[39;00m example_function, Calculator\n\u001b[0;32m      2\u001b[0m \u001b[38;5;28;01mfrom\u001b[39;00m \u001b[38;5;21;01mpdf_processing\u001b[39;00m \u001b[38;5;28;01mimport\u001b[39;00m extract_text_from_pdf, PDFProcessor\n\u001b[0;32m      4\u001b[0m \u001b[38;5;66;03m# Test function\u001b[39;00m\n",
      "\u001b[1;31mModuleNotFoundError\u001b[0m: No module named 'my_awesome_library'"
     ]
    }
   ],
   "source": [
    "from my_awesome_library import example_function, Calculator\n",
    "from pdf_processing import extract_text_from_pdf, PDFProcessor\n",
    "\n",
    "# Test function\n",
    "print(example_function())  # Expected: \"Hello from my-awesome-library\"\n",
    "\n",
    "# Test class-based Calculator\n",
    "calc = Calculator()\n",
    "print(calc.add(10, 5))  # Expected: 15\n",
    "print(calc.subtract(10, 3))  # Expected: 7\n",
    "\n",
    "# Test function-based PDF processing\n",
    "print(extract_text_from_pdf(\"sample.pdf\"))  # Expected: \"Extracted text from sample.pdf\"\n",
    "\n",
    "# Test class-based PDF processing\n",
    "pdf_proc = PDFProcessor(\"document.pdf\")\n",
    "print(pdf_proc.extract_text())  # Expected: \"Extracted text from document.pdf\"\n"
   ]
  },
  {
   "cell_type": "code",
   "execution_count": 1,
   "metadata": {},
   "outputs": [
    {
     "name": "stdout",
     "output_type": "stream",
     "text": [
      "Hello from my-awesome-library\n",
      "15\n",
      "7\n"
     ]
    }
   ],
   "source": [
    "from my_awesome_library import example_function, Calculator\n",
    "# Test function\n",
    "print(example_function())  # Expected: \"Hello from my-awesome-library\"\n",
    "\n",
    "# Test class-based Calculator\n",
    "calc = Calculator()\n",
    "print(calc.add(10, 5))  # Expected: 15\n",
    "print(calc.subtract(10, 3))  # Expected: 7\n",
    "\n"
   ]
  },
  {
   "cell_type": "code",
   "execution_count": 2,
   "metadata": {},
   "outputs": [
    {
     "ename": "ImportError",
     "evalue": "cannot import name 'extract_text_from_pdf' from 'pdf_processing' (c:\\Users\\bemnet2025\\anaconda3\\envs\\first-project-env\\Lib\\site-packages\\pdf_processing\\__init__.py)",
     "output_type": "error",
     "traceback": [
      "\u001b[1;31m---------------------------------------------------------------------------\u001b[0m",
      "\u001b[1;31mImportError\u001b[0m                               Traceback (most recent call last)",
      "Cell \u001b[1;32mIn[2], line 1\u001b[0m\n\u001b[1;32m----> 1\u001b[0m \u001b[38;5;28;01mfrom\u001b[39;00m\u001b[38;5;250m \u001b[39m\u001b[38;5;21;01mpdf_processing\u001b[39;00m\u001b[38;5;250m \u001b[39m\u001b[38;5;28;01mimport\u001b[39;00m extract_text_from_pdf, PDFProcessor\n",
      "\u001b[1;31mImportError\u001b[0m: cannot import name 'extract_text_from_pdf' from 'pdf_processing' (c:\\Users\\bemnet2025\\anaconda3\\envs\\first-project-env\\Lib\\site-packages\\pdf_processing\\__init__.py)"
     ]
    }
   ],
   "source": [
    "from pdf_processing import extract_text_from_pdf, PDFProcessor"
   ]
  },
  {
   "cell_type": "code",
   "execution_count": null,
   "metadata": {},
   "outputs": [],
   "source": []
  }
 ],
 "metadata": {
  "kernelspec": {
   "display_name": "first-project-env",
   "language": "python",
   "name": "python3"
  },
  "language_info": {
   "codemirror_mode": {
    "name": "ipython",
    "version": 3
   },
   "file_extension": ".py",
   "mimetype": "text/x-python",
   "name": "python",
   "nbconvert_exporter": "python",
   "pygments_lexer": "ipython3",
   "version": "3.11.11"
  }
 },
 "nbformat": 4,
 "nbformat_minor": 2
}
